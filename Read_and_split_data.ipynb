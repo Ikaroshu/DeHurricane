{
 "cells": [
  {
   "cell_type": "code",
   "execution_count": 1,
   "metadata": {},
   "outputs": [],
   "source": [
    "import numpy as np\n",
    "import pandas as pd\n",
    "\n",
    "import h5py"
   ]
  },
  {
   "cell_type": "code",
   "execution_count": 2,
   "metadata": {},
   "outputs": [],
   "source": [
    "import matplotlib.pyplot as plt"
   ]
  },
  {
   "cell_type": "code",
   "execution_count": 3,
   "metadata": {},
   "outputs": [],
   "source": [
    "import tensorflow as tf"
   ]
  },
  {
   "cell_type": "markdown",
   "metadata": {},
   "source": [
    "## data loading"
   ]
  },
  {
   "cell_type": "code",
   "execution_count": null,
   "metadata": {},
   "outputs": [],
   "source": [
    "data_path = \"/home/ec2-user/SageMaker/DeHurricane/data_downloaded/TCIR-CPAC_IO_SH.h5\"\n",
    "data_info = pd.read_hdf(data_path, key=\"info\", mode='r')\n",
    "with h5py.File(data_path, 'r') as hf:\n",
    "    data_matrix = hf['matrix'][:]\n",
    "\n"
   ]
  },
  {
   "cell_type": "code",
   "execution_count": null,
   "metadata": {},
   "outputs": [],
   "source": [
    "data_path2 = \"/home/ec2-user/SageMaker/DeHurricane/data_downloaded/TCIR-ATLN_EPAC_WPAC.h5\"\n",
    "data_info2 = pd.read_hdf(data_path2, key=\"info\", mode='r')\n",
    "with h5py.File(data_path2, 'r') as hf2:\n",
    "    data_matrix2 = hf2['matrix'][:]"
   ]
  },
  {
   "cell_type": "code",
   "execution_count": null,
   "metadata": {},
   "outputs": [],
   "source": [
    "print(np.shape(data_matrix),np.shape(data_matrix2))"
   ]
  },
  {
   "cell_type": "code",
   "execution_count": null,
   "metadata": {
    "jupyter": {
     "outputs_hidden": false
    },
    "pycharm": {
     "name": "#%%\n"
    }
   },
   "outputs": [],
   "source": [
    "data=np.concatenate((data_matrix, data_matrix2))"
   ]
  },
  {
   "cell_type": "code",
   "execution_count": null,
   "metadata": {},
   "outputs": [],
   "source": [
    "np.shape(data)"
   ]
  },
  {
   "cell_type": "code",
   "execution_count": null,
   "metadata": {},
   "outputs": [],
   "source": [
    "tmp= [data_info,data_info2]"
   ]
  },
  {
   "cell_type": "code",
   "execution_count": null,
   "metadata": {},
   "outputs": [],
   "source": [
    "data_label=pd.concat(tmp)"
   ]
  },
  {
   "cell_type": "code",
   "execution_count": null,
   "metadata": {},
   "outputs": [],
   "source": [
    "# # reshape and flat the data \n",
    "# flat_arr = [data[i].ravel() for i in range(len(data[:,0,0,0]))]\n",
    "# np.shape(flat_arr)\n",
    "# vector = np.matrix(flat_arr[0])\n",
    "# np.shape(vector)\n",
    "# shape = data[0].shape\n",
    "# arr2 = np.asarray(vector).reshape(shape)\n",
    "# np.shape(arr2)\n",
    "# np.shape(flat_arr[0])\n",
    "\n",
    "# # concatenate the image into the label dataframe \n",
    "# data2=pd.DataFrame(pd.np.column_stack([data_label, flat_arr]))"
   ]
  },
  {
   "cell_type": "code",
   "execution_count": null,
   "metadata": {},
   "outputs": [],
   "source": [
    "index=-1\n",
    "fig, ((ax1, ax2), (ax3, ax4)) = plt.subplots(2, 2, figsize=(15,15))\n",
    "img = data_matrix[index,:,:,0].copy()\n",
    "pos = ax1.imshow(img, plt.cm.gray)\n",
    "cbar = ax1.figure.colorbar(pos, ax=ax1)\n",
    "\n",
    "img1 = data_matrix[index,:,:,1].copy()\n",
    "pos1 = ax2.imshow(img1, plt.cm.gray)\n",
    "cbar = ax2.figure.colorbar(pos1, ax=ax2)\n",
    "\n",
    "img2 = data_matrix[index,:,:,2].copy()\n",
    "pos2 = ax3.imshow(img2, plt.cm.gray)\n",
    "cbar = ax3.figure.colorbar(pos2, ax=ax3)\n",
    "\n",
    "img3 = data_matrix[index,:,:,3].copy()\n",
    "pos3 = ax4.imshow(img3, plt.cm.gray)\n",
    "cbar = ax4.figure.colorbar(pos3, ax=ax4)"
   ]
  },
  {
   "cell_type": "markdown",
   "metadata": {},
   "source": [
    "## Data preprocessing"
   ]
  },
  {
   "cell_type": "markdown",
   "metadata": {},
   "source": [
    "train_label，validate_label，test_label is the label "
   ]
  },
  {
   "cell_type": "markdown",
   "metadata": {},
   "source": [
    "train，validate，test is the data "
   ]
  },
  {
   "cell_type": "code",
   "execution_count": 11,
   "metadata": {},
   "outputs": [],
   "source": [
    "# 1. subtract the index and shuffle it. \n",
    "tc_id=data_label['ID'].drop_duplicates()"
   ]
  },
  {
   "cell_type": "code",
   "execution_count": 12,
   "metadata": {},
   "outputs": [],
   "source": [
    "# 2. create a seed, and shuffle the tc_id \n",
    "seed=100\n",
    "np.random.seed(seed)\n",
    "perm = np.random.permutation(tc_id)\n",
    "\n",
    "# 3. split the training set \n",
    "train_percent,validate_percent=0.6,0.2\n",
    "\n",
    "m = len(tc_id.index)\n",
    "train_end = int(train_percent * m)\n",
    "validate_end = int(validate_percent * m) + train_end"
   ]
  },
  {
   "cell_type": "code",
   "execution_count": 13,
   "metadata": {},
   "outputs": [],
   "source": [
    "#  the labels \n",
    "tmp=[] \n",
    "for i in range(train_end):\n",
    "    tmp.append(data_label[data_label['ID']==perm[i]])\n",
    "train_label=pd.concat(tmp)\n",
    "\n",
    "tmp=[] \n",
    "for i in range(train_end,validate_end):\n",
    "    tmp.append(data_label[data_label['ID']==perm[i]])\n",
    "validate_label =pd.concat(tmp)\n",
    "\n",
    "tmp=[] \n",
    "for i in range(validate_end,len(perm)):\n",
    "    tmp.append(data_label[data_label['ID']==perm[i]])\n",
    "test_label =pd.concat(tmp)"
   ]
  },
  {
   "cell_type": "code",
   "execution_count": 15,
   "metadata": {},
   "outputs": [],
   "source": [
    "# split the data \n",
    "length=len(test_label.index)\n",
    "tmp=np.empty(shape=[length,201,201,4])\n",
    "for i in range(length):\n",
    "    tmp[i,:,:,:]=data[test_label.index[i]]\n",
    "    \n",
    "length=len(train_label.index)\n",
    "train=np.empty(shape=[length,201,201,4])\n",
    "for i in range(length):\n",
    "    train[i,:,:,:]=data[train_label.index[i]]\n",
    "\n",
    "length=len(validate_label.index)\n",
    "validate=np.empty(shape=[length,201,201,4])\n",
    "for i in range(length):\n",
    "    validate[i,:,:,:]=data[validate_label.index[i]]  "
   ]
  },
  {
   "cell_type": "code",
   "execution_count": null,
   "metadata": {},
   "outputs": [],
   "source": [
    "# def train_validate_test_split(df, train_percent=.6, validate_percent=.2, seed=None):\n",
    "#     np.random.seed(seed)\n",
    "#     perm = np.random.permutation(df.index)\n",
    "#     m = len(df.index)\n",
    "#     train_end = int(train_percent * m)\n",
    "#     validate_end = int(validate_percent * m) + train_end\n",
    "#     train = df.iloc[perm[:train_end]]\n",
    "#     validate = df.iloc[perm[train_end:validate_end]]\n",
    "#     test = df.iloc[perm[validate_end:]]\n",
    "#     return train, validate, test"
   ]
  }
 ],
 "metadata": {
  "kernelspec": {
   "display_name": "conda_tensorflow2_p36",
   "language": "python",
   "name": "conda_tensorflow2_p36"
  },
  "language_info": {
   "codemirror_mode": {
    "name": "ipython",
    "version": 3
   },
   "file_extension": ".py",
   "mimetype": "text/x-python",
   "name": "python",
   "nbconvert_exporter": "python",
   "pygments_lexer": "ipython3",
   "version": "3.6.10"
  }
 },
 "nbformat": 4,
 "nbformat_minor": 4
}
